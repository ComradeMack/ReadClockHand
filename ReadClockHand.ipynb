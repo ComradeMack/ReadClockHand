{
 "cells": [
  {
   "cell_type": "code",
   "execution_count": 9,
   "metadata": {},
   "outputs": [
    {
     "name": "stdout",
     "output_type": "stream",
     "text": [
      "clock hands\n"
     ]
    },
    {
     "data": {
      "image/png": "[encoded data removed]",
      "text/plain": [
       "<Figure size 432x288 with 1 Axes>"
      ]
     },
     "metadata": {
      "needs_background": "light"
     },
     "output_type": "display_data"
    },
    {
     "name": "stdout",
     "output_type": "stream",
     "text": [
      "hr hand\n"
     ]
    },
    {
     "data": {
      "image/png": "[encoded data removed]",
      "text/plain": [
       "<Figure size 432x288 with 1 Axes>"
      ]
     },
     "metadata": {
      "needs_background": "light"
     },
     "output_type": "display_data"
    },
    {
     "name": "stdout",
     "output_type": "stream",
     "text": [
      "minute hand\n"
     ]
    },
    {
     "data": {
      "image/png": "[encoded data removed]",
      "text/plain": [
       "<Figure size 432x288 with 1 Axes>"
      ]
     },
     "metadata": {
      "needs_background": "light"
     },
     "output_type": "display_data"
    }
   ],
   "source": [
    "import cv2\n",
    "import matplotlib.pyplot as plt\n",
    "import numpy as np\n",
    "from numpy import math\n",
    "\n",
    "img=cv2.imread('clock0910.png',0) # you can change to 'clock0400.png', you can change to 'clock0900.png',  you can change to 'clock1000.png'\n",
    "img=((img<125))*255\n",
    "\n",
    "def band_eclipse_erase(img,inner,outer):\n",
    "  nx, ny = img.shape\n",
    "  y = np.linspace(-nx/2,nx/2,nx)\n",
    "  x = np.linspace(-ny/2,ny/2,ny)\n",
    "  xv, yv = np.meshgrid(x,y) \n",
    "  radiusCoor = np.sqrt(xv**2 + yv**2)\n",
    "  r1 = radiusCoor < inner\n",
    "  r2 = radiusCoor >= outer\n",
    "  mask1 = np.ones([nx,ny])\n",
    "  return cv2.bitwise_or(r1.astype(np.uint8),r2.astype(np.uint8),mask=mask1.astype(np.uint8))\n",
    "\n",
    "\n",
    "\n",
    "####### Crop the clock picture to focus only min hand and hr hand #########\n",
    "\n",
    "clock_hands=(img-img*band_eclipse_erase(img,15,140))\n",
    "clock_hands=np.uint8(clock_hands)\n",
    "\n",
    "print('clock hands')\n",
    "plt.imshow(clock_hands,cmap='gray') ### crop filter\n",
    "plt.show()\n",
    "\n",
    "output=cv2.connectedComponentsWithStats(clock_hands,8,cv2.CV_32S)\n",
    "\n",
    "####### Extract min hand and hr hand from threshold clock picture ########\n",
    "\n",
    "min_hand=np.zeros(clock_hands.shape)\n",
    "hr_hand=np.zeros(clock_hands.shape)\n",
    "\n",
    "if(np.sum(output[1]==1)>np.sum(output[1]==2)):\n",
    "  hr_hand=output[1]==2\n",
    "  min_hand=output[1]==1\n",
    "else :\n",
    "  hr_hand=output[1]==1\n",
    "  min_hand=output[1]==2\n",
    "\n",
    "hr_hand=hr_hand*255\n",
    "min_hand=min_hand*255\n",
    "\n",
    "print('hr hand')\n",
    "plt.imshow(hr_hand,cmap='gray')\n",
    "plt.show()\n",
    "print('minute hand')\n",
    "plt.imshow(min_hand,cmap='gray')\n",
    "plt.show()"
   ]
  },
  {
   "cell_type": "code",
   "execution_count": 10,
   "metadata": {},
   "outputs": [
    {
     "name": "stdout",
     "output_type": "stream",
     "text": [
      "hr Canny\n"
     ]
    },
    {
     "data": {
      "image/png": "[encoded data removed]",
      "text/plain": [
       "<Figure size 432x288 with 1 Axes>"
      ]
     },
     "metadata": {
      "needs_background": "light"
     },
     "output_type": "display_data"
    },
    {
     "name": "stdout",
     "output_type": "stream",
     "text": [
      "minute Canny\n"
     ]
    },
    {
     "data": {
      "image/png": "[encoded data removed]",
      "text/plain": [
       "<Figure size 432x288 with 1 Axes>"
      ]
     },
     "metadata": {
      "needs_background": "light"
     },
     "output_type": "display_data"
    }
   ],
   "source": [
    "hr_hand=np.uint8(hr_hand)\n",
    "min_hand=np.uint8(min_hand)\n",
    "edges_hr= cv2.Canny(hr_hand,50,150,apertureSize = 3)\n",
    "edges_min= cv2.Canny(min_hand,50,150,apertureSize = 3)\n",
    "edges_hr=edges_hr-edges_hr*band_eclipse_erase(edges_hr,17,137)\n",
    "edges_min=edges_min-edges_min*band_eclipse_erase(edges_min,17,137)\n",
    "\n",
    "\n",
    "\n",
    "\n",
    "print('hr Canny')\n",
    "plt.imshow(edges_hr,cmap='gray')\n",
    "plt.show()\n",
    "print('minute Canny')\n",
    "plt.imshow(edges_min,cmap='gray')\n",
    "plt.show()\n",
    "\n",
    "\n"
   ]
  },
  {
   "cell_type": "code",
   "execution_count": 11,
   "metadata": {},
   "outputs": [
    {
     "name": "stdout",
     "output_type": "stream",
     "text": [
      "09:10\n"
     ]
    }
   ],
   "source": [
    "######## find degree for hour\n",
    "lines_hr = cv2.HoughLines(edges_hr,10,np.pi/180,50)\n",
    "linesdegree = lines_hr.copy()\n",
    "linesdegree[:,0:1,1:2] =linesdegree[:,0:1,1:2]*180/np.pi\n",
    "hr_degree=linesdegree[0][0,1]\n",
    "\n",
    "\n",
    "######## find degree for min\n",
    "\n",
    "lines_min = cv2.HoughLines(edges_min,10,np.pi/180,50)\n",
    "linesdegree = lines_min.copy()\n",
    "linesdegree[:,0:1,1:2] =linesdegree[:,0:1,1:2]*180/np.pi\n",
    "min_degree=linesdegree[0][0,1]\n",
    "\n",
    "def real_angle(angle,edge):\n",
    "    left=edge[:,:edge.shape[1]//2]\n",
    "    right=edge[:,edge.shape[1]//2:]\n",
    "    top=edge[:edge.shape[0]//2,:]\n",
    "    bottom=edge[edge.shape[0]//2:,:]\n",
    "\n",
    "    if(0<=angle<80): \n",
    "        if(np.sum(bottom)>np.sum(top)):\n",
    "            angle+=180\n",
    "    elif 100<angle<180:\n",
    "        if(np.sum(top)>np.sum(bottom)):\n",
    "            angle+=180\n",
    "    elif 80<=angle<=100:\n",
    "        if(np.sum(left)>np.sum(right)):\n",
    "            angle+=180\n",
    "    return angle\n",
    "#print('hour',real_angle(hr_degree,edges_hr))\n",
    "#print('min',real_angle(min_degree,edges_min))\n",
    "\n",
    "time_hr=round(real_angle(hr_degree,edges_hr)/30)\n",
    "time_min=round(real_angle(min_degree,edges_min)/6)\n",
    "def t_fmt(n):\n",
    "    if(n<10):\n",
    "        return '0'+str(n)\n",
    "    return str(n)\n",
    "print(t_fmt(time_hr)+':'+t_fmt(time_min))"
   ]
  },
  {
   "cell_type": "code",
   "execution_count": null,
   "metadata": {},
   "outputs": [],
   "source": []
  }
 ],
 "metadata": {
  "interpreter": {
   "hash": "7987c57931f2365761dc2a5f85e647decf73af6edff0c78918b92bfe7c5512ba"
  },
  "kernelspec": {
   "display_name": "Python 3.8.3 32-bit",
   "language": "python",
   "name": "python3"
  },
  "language_info": {
   "codemirror_mode": {
    "name": "ipython",
    "version": 3
   },
   "file_extension": ".py",
   "mimetype": "text/x-python",
   "name": "python",
   "nbconvert_exporter": "python",
   "pygments_lexer": "ipython3",
   "version": "3.8.3"
  },
  "orig_nbformat": 4
 },
 "nbformat": 4,
 "nbformat_minor": 2
}
